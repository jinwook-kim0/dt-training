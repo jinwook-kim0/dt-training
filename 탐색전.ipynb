{
  "nbformat": 4,
  "nbformat_minor": 0,
  "metadata": {
    "colab": {
      "name": "탐색전.ipynb",
      "provenance": [],
      "collapsed_sections": [],
      "authorship_tag": "ABX9TyNfg7ocS7ajYtXMaaAH736E",
      "include_colab_link": true
    },
    "kernelspec": {
      "name": "python3",
      "display_name": "Python 3"
    },
    "language_info": {
      "name": "python"
    }
  },
  "cells": [
    {
      "cell_type": "markdown",
      "metadata": {
        "id": "view-in-github",
        "colab_type": "text"
      },
      "source": [
        "<a href=\"https://colab.research.google.com/github/jinwook-kim0/dt-training/blob/main/%ED%83%90%EC%83%89%EC%A0%84.ipynb\" target=\"_parent\"><img src=\"https://colab.research.google.com/assets/colab-badge.svg\" alt=\"Open In Colab\"/></a>"
      ]
    },
    {
      "cell_type": "code",
      "execution_count": null,
      "metadata": {
        "colab": {
          "base_uri": "https://localhost:8080/"
        },
        "id": "sijkGVcCqjZr",
        "outputId": "006947a5-db74-43d2-e321-8458799a66a9"
      },
      "outputs": [
        {
          "output_type": "stream",
          "name": "stdout",
          "text": [
            "Drive already mounted at /content/drive; to attempt to forcibly remount, call drive.mount(\"/content/drive\", force_remount=True).\n"
          ]
        }
      ],
      "source": [
        "from google.colab import drive\n",
        "import matplotlib as mpl\n",
        "import matplotlib.pyplot as plt\n",
        "drive.mount('/content/drive')"
      ]
    },
    {
      "cell_type": "code",
      "source": [
        "path = 'drive/MyDrive/Colab Notebooks/'\n",
        "import pandas as pd"
      ],
      "metadata": {
        "id": "md1lG2Vkq5n2"
      },
      "execution_count": null,
      "outputs": []
    },
    {
      "cell_type": "code",
      "source": [
        "train_sensors = pd.read_csv(f'{path}train_sensor.csv')"
      ],
      "metadata": {
        "id": "6qhT8MjPtTfJ"
      },
      "execution_count": null,
      "outputs": []
    },
    {
      "cell_type": "code",
      "source": [
        "train_sensors"
      ],
      "metadata": {
        "colab": {
          "base_uri": "https://localhost:8080/",
          "height": 424
        },
        "id": "B6w6GtO9tZYT",
        "outputId": "9b017040-16ee-411e-8cdd-9be7e0809f92"
      },
      "execution_count": null,
      "outputs": [
        {
          "output_type": "execute_result",
          "data": {
            "text/plain": [
              "       module_name    key_val  param_alias    mean_val             end_time  \\\n",
              "0          EQ4_PM6   LOT64_18    EPD_para4     0.00000  2021-10-11 01:59:49   \n",
              "1          EQ7_PM2  LOT102_18   TIME_para7  1401.18330  2021-10-04 06:37:59   \n",
              "2          EQ8_PM2    LOT8_18     HV_para3     0.00000  2021-10-09 01:31:39   \n",
              "3          EQ4_PM2   LOT79_18   TIME_para8   248.91667  2021-10-12 08:09:21   \n",
              "4          EQ9_PM5  LOT218_08   GAS_para10     0.00000  2021-10-05 02:14:31   \n",
              "...            ...        ...          ...         ...                  ...   \n",
              "406310     EQ4_PM2  LOT359_21  TEMP_para93   150.10770  2021-10-15 06:15:57   \n",
              "406311    EQ11_PM5  LOT401_19  TIME_para62  2336.63330  2021-10-02 04:16:48   \n",
              "406312     EQ6_PM6  LOT332_19    HV_para56     0.24000  2021-10-21 06:22:03   \n",
              "406313     EQ6_PM5  LOT460_18   GAS_para85     0.00000  2021-10-16 14:03:13   \n",
              "406314     EQ1_PM2  LOT456_18  TIME_para37   526.13336  2021-10-03 11:39:19   \n",
              "\n",
              "        step_id  \n",
              "0            17  \n",
              "1            13  \n",
              "2             4  \n",
              "3            13  \n",
              "4            17  \n",
              "...         ...  \n",
              "406310       13  \n",
              "406311        4  \n",
              "406312        4  \n",
              "406313       12  \n",
              "406314       17  \n",
              "\n",
              "[406315 rows x 6 columns]"
            ],
            "text/html": [
              "\n",
              "  <div id=\"df-d3d379c5-5a18-426d-a1d0-d557f2efac22\">\n",
              "    <div class=\"colab-df-container\">\n",
              "      <div>\n",
              "<style scoped>\n",
              "    .dataframe tbody tr th:only-of-type {\n",
              "        vertical-align: middle;\n",
              "    }\n",
              "\n",
              "    .dataframe tbody tr th {\n",
              "        vertical-align: top;\n",
              "    }\n",
              "\n",
              "    .dataframe thead th {\n",
              "        text-align: right;\n",
              "    }\n",
              "</style>\n",
              "<table border=\"1\" class=\"dataframe\">\n",
              "  <thead>\n",
              "    <tr style=\"text-align: right;\">\n",
              "      <th></th>\n",
              "      <th>module_name</th>\n",
              "      <th>key_val</th>\n",
              "      <th>param_alias</th>\n",
              "      <th>mean_val</th>\n",
              "      <th>end_time</th>\n",
              "      <th>step_id</th>\n",
              "    </tr>\n",
              "  </thead>\n",
              "  <tbody>\n",
              "    <tr>\n",
              "      <th>0</th>\n",
              "      <td>EQ4_PM6</td>\n",
              "      <td>LOT64_18</td>\n",
              "      <td>EPD_para4</td>\n",
              "      <td>0.00000</td>\n",
              "      <td>2021-10-11 01:59:49</td>\n",
              "      <td>17</td>\n",
              "    </tr>\n",
              "    <tr>\n",
              "      <th>1</th>\n",
              "      <td>EQ7_PM2</td>\n",
              "      <td>LOT102_18</td>\n",
              "      <td>TIME_para7</td>\n",
              "      <td>1401.18330</td>\n",
              "      <td>2021-10-04 06:37:59</td>\n",
              "      <td>13</td>\n",
              "    </tr>\n",
              "    <tr>\n",
              "      <th>2</th>\n",
              "      <td>EQ8_PM2</td>\n",
              "      <td>LOT8_18</td>\n",
              "      <td>HV_para3</td>\n",
              "      <td>0.00000</td>\n",
              "      <td>2021-10-09 01:31:39</td>\n",
              "      <td>4</td>\n",
              "    </tr>\n",
              "    <tr>\n",
              "      <th>3</th>\n",
              "      <td>EQ4_PM2</td>\n",
              "      <td>LOT79_18</td>\n",
              "      <td>TIME_para8</td>\n",
              "      <td>248.91667</td>\n",
              "      <td>2021-10-12 08:09:21</td>\n",
              "      <td>13</td>\n",
              "    </tr>\n",
              "    <tr>\n",
              "      <th>4</th>\n",
              "      <td>EQ9_PM5</td>\n",
              "      <td>LOT218_08</td>\n",
              "      <td>GAS_para10</td>\n",
              "      <td>0.00000</td>\n",
              "      <td>2021-10-05 02:14:31</td>\n",
              "      <td>17</td>\n",
              "    </tr>\n",
              "    <tr>\n",
              "      <th>...</th>\n",
              "      <td>...</td>\n",
              "      <td>...</td>\n",
              "      <td>...</td>\n",
              "      <td>...</td>\n",
              "      <td>...</td>\n",
              "      <td>...</td>\n",
              "    </tr>\n",
              "    <tr>\n",
              "      <th>406310</th>\n",
              "      <td>EQ4_PM2</td>\n",
              "      <td>LOT359_21</td>\n",
              "      <td>TEMP_para93</td>\n",
              "      <td>150.10770</td>\n",
              "      <td>2021-10-15 06:15:57</td>\n",
              "      <td>13</td>\n",
              "    </tr>\n",
              "    <tr>\n",
              "      <th>406311</th>\n",
              "      <td>EQ11_PM5</td>\n",
              "      <td>LOT401_19</td>\n",
              "      <td>TIME_para62</td>\n",
              "      <td>2336.63330</td>\n",
              "      <td>2021-10-02 04:16:48</td>\n",
              "      <td>4</td>\n",
              "    </tr>\n",
              "    <tr>\n",
              "      <th>406312</th>\n",
              "      <td>EQ6_PM6</td>\n",
              "      <td>LOT332_19</td>\n",
              "      <td>HV_para56</td>\n",
              "      <td>0.24000</td>\n",
              "      <td>2021-10-21 06:22:03</td>\n",
              "      <td>4</td>\n",
              "    </tr>\n",
              "    <tr>\n",
              "      <th>406313</th>\n",
              "      <td>EQ6_PM5</td>\n",
              "      <td>LOT460_18</td>\n",
              "      <td>GAS_para85</td>\n",
              "      <td>0.00000</td>\n",
              "      <td>2021-10-16 14:03:13</td>\n",
              "      <td>12</td>\n",
              "    </tr>\n",
              "    <tr>\n",
              "      <th>406314</th>\n",
              "      <td>EQ1_PM2</td>\n",
              "      <td>LOT456_18</td>\n",
              "      <td>TIME_para37</td>\n",
              "      <td>526.13336</td>\n",
              "      <td>2021-10-03 11:39:19</td>\n",
              "      <td>17</td>\n",
              "    </tr>\n",
              "  </tbody>\n",
              "</table>\n",
              "<p>406315 rows × 6 columns</p>\n",
              "</div>\n",
              "      <button class=\"colab-df-convert\" onclick=\"convertToInteractive('df-d3d379c5-5a18-426d-a1d0-d557f2efac22')\"\n",
              "              title=\"Convert this dataframe to an interactive table.\"\n",
              "              style=\"display:none;\">\n",
              "        \n",
              "  <svg xmlns=\"http://www.w3.org/2000/svg\" height=\"24px\"viewBox=\"0 0 24 24\"\n",
              "       width=\"24px\">\n",
              "    <path d=\"M0 0h24v24H0V0z\" fill=\"none\"/>\n",
              "    <path d=\"M18.56 5.44l.94 2.06.94-2.06 2.06-.94-2.06-.94-.94-2.06-.94 2.06-2.06.94zm-11 1L8.5 8.5l.94-2.06 2.06-.94-2.06-.94L8.5 2.5l-.94 2.06-2.06.94zm10 10l.94 2.06.94-2.06 2.06-.94-2.06-.94-.94-2.06-.94 2.06-2.06.94z\"/><path d=\"M17.41 7.96l-1.37-1.37c-.4-.4-.92-.59-1.43-.59-.52 0-1.04.2-1.43.59L10.3 9.45l-7.72 7.72c-.78.78-.78 2.05 0 2.83L4 21.41c.39.39.9.59 1.41.59.51 0 1.02-.2 1.41-.59l7.78-7.78 2.81-2.81c.8-.78.8-2.07 0-2.86zM5.41 20L4 18.59l7.72-7.72 1.47 1.35L5.41 20z\"/>\n",
              "  </svg>\n",
              "      </button>\n",
              "      \n",
              "  <style>\n",
              "    .colab-df-container {\n",
              "      display:flex;\n",
              "      flex-wrap:wrap;\n",
              "      gap: 12px;\n",
              "    }\n",
              "\n",
              "    .colab-df-convert {\n",
              "      background-color: #E8F0FE;\n",
              "      border: none;\n",
              "      border-radius: 50%;\n",
              "      cursor: pointer;\n",
              "      display: none;\n",
              "      fill: #1967D2;\n",
              "      height: 32px;\n",
              "      padding: 0 0 0 0;\n",
              "      width: 32px;\n",
              "    }\n",
              "\n",
              "    .colab-df-convert:hover {\n",
              "      background-color: #E2EBFA;\n",
              "      box-shadow: 0px 1px 2px rgba(60, 64, 67, 0.3), 0px 1px 3px 1px rgba(60, 64, 67, 0.15);\n",
              "      fill: #174EA6;\n",
              "    }\n",
              "\n",
              "    [theme=dark] .colab-df-convert {\n",
              "      background-color: #3B4455;\n",
              "      fill: #D2E3FC;\n",
              "    }\n",
              "\n",
              "    [theme=dark] .colab-df-convert:hover {\n",
              "      background-color: #434B5C;\n",
              "      box-shadow: 0px 1px 3px 1px rgba(0, 0, 0, 0.15);\n",
              "      filter: drop-shadow(0px 1px 2px rgba(0, 0, 0, 0.3));\n",
              "      fill: #FFFFFF;\n",
              "    }\n",
              "  </style>\n",
              "\n",
              "      <script>\n",
              "        const buttonEl =\n",
              "          document.querySelector('#df-d3d379c5-5a18-426d-a1d0-d557f2efac22 button.colab-df-convert');\n",
              "        buttonEl.style.display =\n",
              "          google.colab.kernel.accessAllowed ? 'block' : 'none';\n",
              "\n",
              "        async function convertToInteractive(key) {\n",
              "          const element = document.querySelector('#df-d3d379c5-5a18-426d-a1d0-d557f2efac22');\n",
              "          const dataTable =\n",
              "            await google.colab.kernel.invokeFunction('convertToInteractive',\n",
              "                                                     [key], {});\n",
              "          if (!dataTable) return;\n",
              "\n",
              "          const docLinkHtml = 'Like what you see? Visit the ' +\n",
              "            '<a target=\"_blank\" href=https://colab.research.google.com/notebooks/data_table.ipynb>data table notebook</a>'\n",
              "            + ' to learn more about interactive tables.';\n",
              "          element.innerHTML = '';\n",
              "          dataTable['output_type'] = 'display_data';\n",
              "          await google.colab.output.renderOutput(dataTable, element);\n",
              "          const docLink = document.createElement('div');\n",
              "          docLink.innerHTML = docLinkHtml;\n",
              "          element.appendChild(docLink);\n",
              "        }\n",
              "      </script>\n",
              "    </div>\n",
              "  </div>\n",
              "  "
            ]
          },
          "metadata": {},
          "execution_count": 32
        }
      ]
    },
    {
      "cell_type": "code",
      "source": [
        "# Parameter 갯수\n",
        "\n",
        "len(train_sensors.param_alias.unique())"
      ],
      "metadata": {
        "colab": {
          "base_uri": "https://localhost:8080/"
        },
        "id": "R_RDYUXgtrjt",
        "outputId": "0e6022ef-64a9-4622-acc8-37c20795dc03"
      },
      "execution_count": null,
      "outputs": [
        {
          "output_type": "execute_result",
          "data": {
            "text/plain": [
              "95"
            ]
          },
          "metadata": {},
          "execution_count": 33
        }
      ]
    },
    {
      "cell_type": "code",
      "source": [
        "# Wafer 갯수 \n",
        "len(train_sensors.key_val.unique())"
      ],
      "metadata": {
        "colab": {
          "base_uri": "https://localhost:8080/"
        },
        "id": "meF5gLZwtwex",
        "outputId": "80d78b99-0be1-4afa-9a4a-58073151cdf8"
      },
      "execution_count": null,
      "outputs": [
        {
          "output_type": "execute_result",
          "data": {
            "text/plain": [
              "611"
            ]
          },
          "metadata": {},
          "execution_count": 34
        }
      ]
    },
    {
      "cell_type": "code",
      "source": [
        "# 장비당 Wafer 배정\n",
        "plt.bar(train_sensors.module_name.unique(), [len(train_sensors[train_sensors.module_name == x].key_val.unique()) for x in train_sensors.module_name.unique()])\n"
      ],
      "metadata": {
        "id": "C8tUqVHmuQ4V",
        "colab": {
          "base_uri": "https://localhost:8080/",
          "height": 284
        },
        "outputId": "066d977e-4f76-46c6-f173-136e8ae4f677"
      },
      "execution_count": null,
      "outputs": [
        {
          "output_type": "execute_result",
          "data": {
            "text/plain": [
              "<BarContainer object of 47 artists>"
            ]
          },
          "metadata": {},
          "execution_count": 37
        },
        {
          "output_type": "display_data",
          "data": {
            "text/plain": [
              "<Figure size 432x288 with 1 Axes>"
            ],
            "image/png": "[encoded data removed]"
          },
          "metadata": {
            "needs_background": "light"
          }
        }
      ]
    },
    {
      "cell_type": "code",
      "source": [
        "# Wafer당 Data \n",
        "{len(train_sensors[train_sensors.key_val == x]) for x in train_sensors.key_val.unique()}"
      ],
      "metadata": {
        "colab": {
          "base_uri": "https://localhost:8080/"
        },
        "id": "yuq0rkte0--q",
        "outputId": "d13d4957-191a-446b-f758-f4741c4ae921"
      },
      "execution_count": null,
      "outputs": [
        {
          "output_type": "execute_result",
          "data": {
            "text/plain": [
              "{665}"
            ]
          },
          "metadata": {},
          "execution_count": 38
        }
      ]
    },
    {
      "cell_type": "code",
      "source": [
        "# 장비가 진행하는 step id\n",
        "{x: sorted(train_sensors[train_sensors.module_name == x].step_id.unique()) for x in train_sensors.module_name.unique()}"
      ],
      "metadata": {
        "colab": {
          "base_uri": "https://localhost:8080/"
        },
        "id": "f5vGtFUp1p_2",
        "outputId": "ad5dda24-ac4e-45ca-95c0-257c03da9028"
      },
      "execution_count": null,
      "outputs": [
        {
          "output_type": "execute_result",
          "data": {
            "text/plain": [
              "{'EQ10_PM1': [4, 6, 12, 13, 17, 18, 20],\n",
              " 'EQ10_PM2': [4, 6, 12, 13, 17, 18, 20],\n",
              " 'EQ10_PM5': [4, 6, 12, 13, 17, 18, 20],\n",
              " 'EQ10_PM6': [4, 6, 12, 13, 17, 18, 20],\n",
              " 'EQ11_PM1': [4, 6, 12, 13, 17, 18, 20],\n",
              " 'EQ11_PM2': [4, 6, 12, 13, 17, 18, 20],\n",
              " 'EQ11_PM5': [4, 6, 12, 13, 17, 18, 20],\n",
              " 'EQ11_PM6': [4, 6, 12, 13, 17, 18, 20],\n",
              " 'EQ12_PM1': [4, 6, 12, 13, 17, 18, 20],\n",
              " 'EQ12_PM2': [4, 6, 12, 13, 17, 18, 20],\n",
              " 'EQ12_PM5': [4, 6, 12, 13, 17, 18, 20],\n",
              " 'EQ12_PM6': [4, 6, 12, 13, 17, 18, 20],\n",
              " 'EQ1_PM1': [4, 6, 12, 13, 17, 18, 20],\n",
              " 'EQ1_PM2': [4, 6, 12, 13, 17, 18, 20],\n",
              " 'EQ1_PM5': [4, 6, 12, 13, 17, 18, 20],\n",
              " 'EQ1_PM6': [4, 6, 12, 13, 17, 18, 20],\n",
              " 'EQ2_PM1': [4, 6, 12, 13, 17, 18, 20],\n",
              " 'EQ2_PM2': [4, 6, 12, 13, 17, 18, 20],\n",
              " 'EQ2_PM5': [4, 6, 12, 13, 17, 18, 20],\n",
              " 'EQ2_PM6': [4, 6, 12, 13, 17, 18, 20],\n",
              " 'EQ3_PM1': [4, 6, 12, 13, 17, 18, 20],\n",
              " 'EQ3_PM2': [4, 6, 12, 13, 17, 18, 20],\n",
              " 'EQ3_PM5': [4, 6, 12, 13, 17, 18, 20],\n",
              " 'EQ3_PM6': [4, 6, 12, 13, 17, 18, 20],\n",
              " 'EQ4_PM1': [4, 6, 12, 13, 17, 18, 20],\n",
              " 'EQ4_PM2': [4, 6, 12, 13, 17, 18, 20],\n",
              " 'EQ4_PM5': [4, 6, 12, 13, 17, 18, 20],\n",
              " 'EQ4_PM6': [4, 6, 12, 13, 17, 18, 20],\n",
              " 'EQ5_PM1': [4, 6, 12, 13, 17, 18, 20],\n",
              " 'EQ5_PM2': [4, 6, 12, 13, 17, 18, 20],\n",
              " 'EQ5_PM5': [4, 6, 12, 13, 17, 18, 20],\n",
              " 'EQ5_PM6': [4, 6, 12, 13, 17, 18, 20],\n",
              " 'EQ6_PM1': [4, 6, 12, 13, 17, 18, 20],\n",
              " 'EQ6_PM2': [4, 6, 12, 13, 17, 18, 20],\n",
              " 'EQ6_PM5': [4, 6, 12, 13, 17, 18, 20],\n",
              " 'EQ6_PM6': [4, 6, 12, 13, 17, 18, 20],\n",
              " 'EQ7_PM1': [4, 6, 12, 13, 17, 18, 20],\n",
              " 'EQ7_PM2': [4, 6, 12, 13, 17, 18, 20],\n",
              " 'EQ7_PM5': [4, 6, 12, 13, 17, 18, 20],\n",
              " 'EQ7_PM6': [4, 6, 12, 13, 17, 18, 20],\n",
              " 'EQ8_PM1': [4, 6, 12, 13, 17, 18, 20],\n",
              " 'EQ8_PM2': [4, 6, 12, 13, 17, 18, 20],\n",
              " 'EQ8_PM5': [4, 6, 12, 13, 17, 18, 20],\n",
              " 'EQ8_PM6': [4, 6, 12, 13, 17, 18, 20],\n",
              " 'EQ9_PM1': [4, 6, 12, 13, 17, 18, 20],\n",
              " 'EQ9_PM2': [4, 6, 12, 13, 17, 18, 20],\n",
              " 'EQ9_PM5': [4, 6, 12, 13, 17, 18, 20]}"
            ]
          },
          "metadata": {},
          "execution_count": 27
        }
      ]
    },
    {
      "cell_type": "code",
      "source": [
        "# Wafer가 거쳐간 장비가 1개 이상인 경우가 있는지\n",
        "{len(train_sensors[train_sensors.key_val == x].module_name.unique()) for x in train_sensors.key_val.unique()}"
      ],
      "metadata": {
        "colab": {
          "base_uri": "https://localhost:8080/"
        },
        "id": "WfZVMjiu3SQs",
        "outputId": "4d0fcc00-3008-4044-af07-bff8960ba749"
      },
      "execution_count": null,
      "outputs": [
        {
          "output_type": "execute_result",
          "data": {
            "text/plain": [
              "{1}"
            ]
          },
          "metadata": {},
          "execution_count": 39
        }
      ]
    },
    {
      "cell_type": "code",
      "source": [
        "train_sensors['end_time'] = pd.to_datetime(train_sensors['end_time'])"
      ],
      "metadata": {
        "id": "AERP9euw3qzl"
      },
      "execution_count": null,
      "outputs": []
    },
    {
      "cell_type": "code",
      "source": [
        "train_sensors[train_sensors['key_val'] == 'LOT64_18'].sort_values('step_id').groupby('step_id').min().end_time"
      ],
      "metadata": {
        "colab": {
          "base_uri": "https://localhost:8080/"
        },
        "id": "Tfk75r1S5zYD",
        "outputId": "00d008a6-d9b9-459b-9dcb-b9f63f1bde8d"
      },
      "execution_count": null,
      "outputs": [
        {
          "output_type": "execute_result",
          "data": {
            "text/plain": [
              "step_id\n",
              "4    2021-10-11 01:35:10\n",
              "6    2021-10-11 01:37:32\n",
              "12   2021-10-11 01:51:37\n",
              "13   2021-10-11 01:51:53\n",
              "17   2021-10-11 01:59:49\n",
              "18   2021-10-11 02:00:05\n",
              "20   2021-10-11 02:06:56\n",
              "Name: end_time, dtype: datetime64[ns]"
            ]
          },
          "metadata": {},
          "execution_count": 60
        }
      ]
    },
    {
      "cell_type": "code",
      "source": [
        "train_sensors[train_sensors['key_val'] == 'LOT64_18'].sort_values('step_id').groupby('step_id').max().end_time"
      ],
      "metadata": {
        "colab": {
          "base_uri": "https://localhost:8080/"
        },
        "id": "hq98mO_E68ZJ",
        "outputId": "fd8bd03b-01d9-4b7a-ad63-fd661713f7ef"
      },
      "execution_count": null,
      "outputs": [
        {
          "output_type": "execute_result",
          "data": {
            "text/plain": [
              "step_id\n",
              "4    2021-10-11 01:35:10\n",
              "6    2021-10-11 01:37:32\n",
              "12   2021-10-11 01:51:37\n",
              "13   2021-10-11 01:51:53\n",
              "17   2021-10-11 01:59:49\n",
              "18   2021-10-11 02:00:05\n",
              "20   2021-10-11 02:06:56\n",
              "Name: end_time, dtype: datetime64[ns]"
            ]
          },
          "metadata": {},
          "execution_count": 61
        }
      ]
    },
    {
      "cell_type": "code",
      "source": [
        ""
      ],
      "metadata": {
        "id": "XDKh4VhY7OyO"
      },
      "execution_count": null,
      "outputs": []
    }
  ]
}